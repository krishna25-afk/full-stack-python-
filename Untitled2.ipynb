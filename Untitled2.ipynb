{
 "cells": [
  {
   "cell_type": "code",
   "execution_count": 1,
   "id": "4322b2c6-e8d5-42e9-b9df-dbc37011abc1",
   "metadata": {},
   "outputs": [
    {
     "name": "stdout",
     "output_type": "stream",
     "text": [
      "hello,python full stack student\n"
     ]
    }
   ],
   "source": [
    "print(\"hello,python full stack student\")"
   ]
  },
  {
   "cell_type": "code",
   "execution_count": 14,
   "id": "51b1785e-735b-4e6c-ab75-74319b0335f9",
   "metadata": {},
   "outputs": [
    {
     "name": "stdout",
     "output_type": "stream",
     "text": [
      "i am krishna\n"
     ]
    }
   ],
   "source": [
    "print(\"i am krishna\")"
   ]
  },
  {
   "cell_type": "code",
   "execution_count": 15,
   "id": "e5b17b75-37fc-4d9e-8b1f-170503284086",
   "metadata": {},
   "outputs": [
    {
     "name": "stdout",
     "output_type": "stream",
     "text": [
      "are u a avinash student\n"
     ]
    }
   ],
   "source": [
    "print(\"are u a avinash student\")"
   ]
  },
  {
   "cell_type": "code",
   "execution_count": 16,
   "id": "21a8177a-f180-4d84-8ce9-7defd14b8969",
   "metadata": {},
   "outputs": [
    {
     "name": "stdout",
     "output_type": "stream",
     "text": [
      "krishna 19 10.0 True\n"
     ]
    }
   ],
   "source": [
    "name=\"krishna\" \n",
    "age=19 \n",
    "gpa=10.0 \n",
    "is_student=True \n",
    "print(name, age, gpa, is_student)"
   ]
  },
  {
   "cell_type": "code",
   "execution_count": 17,
   "id": "31d09faf-21a7-4c75-abfa-fe7eb3b4a035",
   "metadata": {},
   "outputs": [
    {
     "name": "stdout",
     "output_type": "stream",
     "text": [
      "aaqil 3 4 9\n"
     ]
    }
   ],
   "source": [
    "student=\"aaqil\"\n",
    "marriage_status=3\n",
    "wife=4\n",
    "children=9\n",
    "print(student, marriage_status, wife, children)"
   ]
  },
  {
   "cell_type": "code",
   "execution_count": 18,
   "id": "f0ea35a4-d4a0-4631-9f2b-865372b0492a",
   "metadata": {},
   "outputs": [
    {
     "name": "stdout",
     "output_type": "stream",
     "text": [
      "<class 'int'> <class 'float'> <class 'str'> <class 'bool'>\n"
     ]
    }
   ],
   "source": [
    "x=10\n",
    "y=9.0\n",
    "z=\"python\"\n",
    "flag=False\n",
    "print(type(x), type (y), type(z), type(flag) )"
   ]
  },
  {
   "cell_type": "code",
   "execution_count": 19,
   "id": "37b0216d-6f5e-4697-ab0b-c0213de55ece",
   "metadata": {},
   "outputs": [
    {
     "name": "stdout",
     "output_type": "stream",
     "text": [
      "krihna acc ntg\n"
     ]
    }
   ],
   "source": [
    "name=\"krihna\"\n",
    "college=\"acc\"\n",
    "favlang= \"ntg\"\n",
    "print (name, college, favlang)"
   ]
  },
  {
   "cell_type": "code",
   "execution_count": 20,
   "id": "a2c94d14-49ec-47bb-9b56-4ea51558ef1b",
   "metadata": {},
   "outputs": [
    {
     "data": {
      "text/plain": [
       "-19"
      ]
     },
     "execution_count": 20,
     "metadata": {},
     "output_type": "execute_result"
    }
   ],
   "source": [
    "dob=2006\n",
    "year=2025 \n",
    "dob-year"
   ]
  },
  {
   "cell_type": "code",
   "execution_count": 21,
   "id": "1192cd29-fcbf-48c3-b96f-bf82dcde0771",
   "metadata": {},
   "outputs": [
    {
     "name": "stdout",
     "output_type": "stream",
     "text": [
      "mustang 2025 9\n"
     ]
    }
   ],
   "source": [
    "movie=\"mustang\"\n",
    "release_year=2025\n",
    "rating=9\n",
    "print( movie, release_year, rating)"
   ]
  },
  {
   "cell_type": "code",
   "execution_count": 25,
   "id": "bceb55f7-508a-43d3-8242-d18048c050f4",
   "metadata": {},
   "outputs": [
    {
     "name": "stdout",
     "output_type": "stream",
     "text": [
      "addition: 18\n",
      "floordivision: 3\n",
      "division: 3.5\n",
      "power: 38416\n"
     ]
    }
   ],
   "source": [
    "a=14\n",
    "b=4\n",
    "print(\"addition:\",a+b)\n",
    "print(\"floordivision:\",a//b)\n",
    "print(\"division:\",a/b)\n",
    "print(\"power:\",a**b)"
   ]
  },
  {
   "cell_type": "code",
   "execution_count": 28,
   "id": "01e7b128-86dc-4045-9c64-cbf4ab3505f3",
   "metadata": {},
   "outputs": [
    {
     "name": "stdout",
     "output_type": "stream",
     "text": [
      "False\n",
      "False\n",
      "True\n"
     ]
    }
   ],
   "source": [
    "a=10\n",
    "b=20\n",
    "print(a>b) # FALSE\n",
    "print(a==b) # true\n",
    "print(a<b) and (b==20)#true"
   ]
  },
  {
   "cell_type": "code",
   "execution_count": null,
   "id": "afd9600b-e710-4891-9eae-b505e78d7c67",
   "metadata": {},
   "outputs": [],
   "source": []
  }
 ],
 "metadata": {
  "kernelspec": {
   "display_name": "Python [conda env:base] *",
   "language": "python",
   "name": "conda-base-py"
  },
  "language_info": {
   "codemirror_mode": {
    "name": "ipython",
    "version": 3
   },
   "file_extension": ".py",
   "mimetype": "text/x-python",
   "name": "python",
   "nbconvert_exporter": "python",
   "pygments_lexer": "ipython3",
   "version": "3.13.5"
  }
 },
 "nbformat": 4,
 "nbformat_minor": 5
}
