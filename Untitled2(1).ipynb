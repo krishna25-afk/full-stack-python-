{
 "cells": [
  {
   "cell_type": "markdown",
   "id": "a3622622-a3fb-4a20-ad18-c4620147e558",
   "metadata": {},
   "source": [
    "# SDFVGBHMJK.L;/' SQWRTEYUIOP'[\n",
    "]][POIUMYTREAs-0;98l,7k6j5h4gewfqZ"
   ]
  },
  {
   "cell_type": "code",
   "execution_count": null,
   "id": "4322b2c6-e8d5-42e9-b9df-dbc37011abc1",
   "metadata": {},
   "outputs": [],
   "source": [
    "print(\"hello,python full stack student\")"
   ]
  },
  {
   "cell_type": "code",
   "execution_count": null,
   "id": "51b1785e-735b-4e6c-ab75-74319b0335f9",
   "metadata": {},
   "outputs": [],
   "source": [
    "print(\"i am krishna\")"
   ]
  },
  {
   "cell_type": "code",
   "execution_count": null,
   "id": "e5b17b75-37fc-4d9e-8b1f-170503284086",
   "metadata": {},
   "outputs": [],
   "source": [
    "print(\"are u a avinash student\")"
   ]
  },
  {
   "cell_type": "code",
   "execution_count": null,
   "id": "21a8177a-f180-4d84-8ce9-7defd14b8969",
   "metadata": {},
   "outputs": [],
   "source": [
    "name=\"krishna\" \n",
    "age=19 \n",
    "gpa=10.0 \n",
    "is_student=True \n",
    "print(name, age, gpa, is_student)"
   ]
  },
  {
   "cell_type": "code",
   "execution_count": null,
   "id": "31d09faf-21a7-4c75-abfa-fe7eb3b4a035",
   "metadata": {},
   "outputs": [],
   "source": [
    "student=\"aaqil\"\n",
    "marriage_status=3\n",
    "wife=4\n",
    "children=9\n",
    "print(student, marriage_status, wife, children)"
   ]
  },
  {
   "cell_type": "code",
   "execution_count": null,
   "id": "f0ea35a4-d4a0-4631-9f2b-865372b0492a",
   "metadata": {},
   "outputs": [],
   "source": [
    "x=10\n",
    "y=9.0\n",
    "z=\"python\"\n",
    "flag=False\n",
    "print(type(x), type (y), type(z), type(flag) )"
   ]
  },
  {
   "cell_type": "code",
   "execution_count": null,
   "id": "37b0216d-6f5e-4697-ab0b-c0213de55ece",
   "metadata": {},
   "outputs": [],
   "source": [
    "name=\"krihna\"\n",
    "college=\"acc\"\n",
    "favlang= \"ntg\"\n",
    "print (name, college, favlang)"
   ]
  },
  {
   "cell_type": "code",
   "execution_count": null,
   "id": "a2c94d14-49ec-47bb-9b56-4ea51558ef1b",
   "metadata": {},
   "outputs": [],
   "source": [
    "dob=2006\n",
    "year=2025 \n",
    "dob-year"
   ]
  },
  {
   "cell_type": "code",
   "execution_count": null,
   "id": "1192cd29-fcbf-48c3-b96f-bf82dcde0771",
   "metadata": {},
   "outputs": [],
   "source": [
    "movie=\"mustang\"\n",
    "release_year=2025\n",
    "rating=9\n",
    "print( movie, release_year, rating)"
   ]
  },
  {
   "cell_type": "code",
   "execution_count": null,
   "id": "bceb55f7-508a-43d3-8242-d18048c050f4",
   "metadata": {},
   "outputs": [],
   "source": [
    "a=14\n",
    "b=4\n",
    "print(\"addition:\",a+b)\n",
    "print(\"floordivision:\",a//b)\n",
    "print(\"division:\",a/b)\n",
    "print(\"power:\",a**b)"
   ]
  },
  {
   "cell_type": "code",
   "execution_count": null,
   "id": "01e7b128-86dc-4045-9c64-cbf4ab3505f3",
   "metadata": {},
   "outputs": [],
   "source": [
    "a=10\n",
    "b=20\n",
    "print(a>b) # FALSE\n",
    "print(a==b) # true\n",
    "print(a<b) and (b==20)#true"
   ]
  },
  {
   "cell_type": "code",
   "execution_count": null,
   "id": "afd9600b-e710-4891-9eae-b505e78d7c67",
   "metadata": {},
   "outputs": [],
   "source": [
    "z=10\n",
    "v=24\n",
    "print(\"division\",z/v)"
   ]
  },
  {
   "cell_type": "code",
   "execution_count": null,
   "id": "1784060c-f845-4378-aa64-64d61571f4f1",
   "metadata": {},
   "outputs": [],
   "source": [
    "print(\"hello,myself krishna\")"
   ]
  },
  {
   "cell_type": "code",
   "execution_count": 3,
   "id": "1b2995ee-29ab-45f3-832a-c3e3366bdd02",
   "metadata": {},
   "outputs": [
    {
     "name": "stdout",
     "output_type": "stream",
     "text": [
      "['apple', 'banana', 'mango', 'orange']\n"
     ]
    }
   ],
   "source": [
    "fruit=[\"apple\",\"banana\",\"mango\"]\n",
    "fruit.append(\"orange\")\n",
    "print(fruit)  # ['apple','banana','mango','orange']"
   ]
  },
  {
   "cell_type": "code",
   "execution_count": 8,
   "id": "810f556b-4943-404b-9c21-7db395edb2ef",
   "metadata": {},
   "outputs": [
    {
     "name": "stdout",
     "output_type": "stream",
     "text": [
      "red\n"
     ]
    }
   ],
   "source": [
    "colors=(\"red\", \"green\", \"blur\")\n",
    "print(colors[0]) # red\n",
    "#colour[1]=\"yellow\""
   ]
  },
  {
   "cell_type": "code",
   "execution_count": 11,
   "id": "04f365db-0e53-4179-b7da-8127af0b6888",
   "metadata": {},
   "outputs": [
    {
     "name": "stdout",
     "output_type": "stream",
     "text": [
      "{1, 2, 3, 4, 5}\n"
     ]
    }
   ],
   "source": [
    "no={1,2,3,3,4}\n",
    "no.add(5)\n",
    "print(no) #{1,2,3,4,5}"
   ]
  },
  {
   "cell_type": "code",
   "execution_count": 4,
   "id": "1338cb4e-9caf-4ca8-88f7-99e0cb6e957a",
   "metadata": {
    "scrolled": true
   },
   "outputs": [
    {
     "ename": "NameError",
     "evalue": "name 'student' is not defined",
     "output_type": "error",
     "traceback": [
      "\u001b[1;31m---------------------------------------------------------------------------\u001b[0m",
      "\u001b[1;31mNameError\u001b[0m                                 Traceback (most recent call last)",
      "Cell \u001b[1;32mIn[4], line 6\u001b[0m\n\u001b[0;32m      1\u001b[0m { \n\u001b[0;32m      2\u001b[0m \u001b[38;5;124m\"\u001b[39m\u001b[38;5;124mname\u001b[39m\u001b[38;5;124m\"\u001b[39m:\u001b[38;5;124m\"\u001b[39m\u001b[38;5;124msai\u001b[39m\u001b[38;5;124m\"\u001b[39m,\n\u001b[0;32m      3\u001b[0m \u001b[38;5;124m\"\u001b[39m\u001b[38;5;124mage\u001b[39m\u001b[38;5;124m\"\u001b[39m:\u001b[38;5;241m19\u001b[39m,\n\u001b[0;32m      4\u001b[0m \u001b[38;5;124m\"\u001b[39m\u001b[38;5;124mcourse\u001b[39m\u001b[38;5;124m\"\u001b[39m:\u001b[38;5;124m\"\u001b[39m\u001b[38;5;124mpython full stack\u001b[39m\u001b[38;5;124m\"\u001b[39m\n\u001b[0;32m      5\u001b[0m }\n\u001b[1;32m----> 6\u001b[0m student[\u001b[38;5;124m\"\u001b[39m\u001b[38;5;124mcollage\u001b[39m\u001b[38;5;124m\"\u001b[39m]\u001b[38;5;241m=\u001b[39m\u001b[38;5;124m\"\u001b[39m\u001b[38;5;124mABC_university\u001b[39m\u001b[38;5;124m\"\u001b[39m\n\u001b[0;32m      7\u001b[0m \u001b[38;5;28mprint\u001b[39m(student\u001b[38;5;241m.\u001b[39mkeys()) \u001b[38;5;66;03m#dict keys\u001b[39;00m\n\u001b[0;32m      8\u001b[0m \u001b[38;5;28mprint\u001b[39m(student\u001b[38;5;241m.\u001b[39mvalues())\u001b[38;5;66;03m#dict values \u001b[39;00m\n",
      "\u001b[1;31mNameError\u001b[0m: name 'student' is not defined"
     ]
    }
   ],
   "source": [
    "\n",
    "{ \n",
    "\"name\":\"sai\",\n",
    "\"age\":19,\n",
    "\"course\":\"python full stack\"\n",
    "}\n",
    "student[\"collage\"]=\"ABC_university\"\n",
    "print(student.keys()) #dict keys\n",
    "print(student.values())#dict values \n",
    "print(student[\"name\"]) #sai, \n",
    "student[\"age\"]=19 #update\n",
    "print(student)"
   ]
  },
  {
   "cell_type": "code",
   "execution_count": 12,
   "id": "52d49987-9894-48ef-bb36-5dea6b815e75",
   "metadata": {},
   "outputs": [
    {
     "name": "stdout",
     "output_type": "stream",
     "text": [
      "grade:B\n"
     ]
    }
   ],
   "source": [
    "marks=75\n",
    "if marks>=90:\n",
    " print(\"grade:A\")\n",
    "elif marks>=75:\n",
    " print(\"grade:B\")\n",
    "elif marks>=50:\n",
    " print(\"grade:c\")\n",
    "else:\n",
    " print(\"grade:FAIL\")"
   ]
  },
  {
   "cell_type": "raw",
   "id": "5e21993d-7d4a-451b-a677-365148d6107f",
   "metadata": {},
   "source": [
    "for"
   ]
  },
  {
   "cell_type": "code",
   "execution_count": 16,
   "id": "c1d6b84a-2f6d-4dec-b861-7412ca97f8ae",
   "metadata": {},
   "outputs": [
    {
     "name": "stdout",
     "output_type": "stream",
     "text": [
      "number: 1\n",
      "number: 2\n",
      "number: 3\n",
      "number: 4\n",
      "number: 5\n"
     ]
    }
   ],
   "source": [
    "for i in range (1,6):\n",
    "     print(\"number:\",i)"
   ]
  },
  {
   "cell_type": "code",
   "execution_count": 17,
   "id": "3f9cb9a2-2ebb-4bcb-b1ce-ca21120fb038",
   "metadata": {},
   "outputs": [
    {
     "name": "stdout",
     "output_type": "stream",
     "text": [
      "count: 1\n",
      "count: 2\n",
      "count: 3\n",
      "count: 4\n",
      "count: 5\n"
     ]
    }
   ],
   "source": [
    "count=1\n",
    "while count<=5:\n",
    "    print(\"count:\",count)\n",
    "    count+=1"
   ]
  },
  {
   "cell_type": "raw",
   "id": "b797b31d-da6f-4c5d-9b43-3746db963a46",
   "metadata": {},
   "source": []
  },
  {
   "cell_type": "code",
   "execution_count": 23,
   "id": "e2cb5e46-6be2-45c2-af19-0b59e2fa1c37",
   "metadata": {},
   "outputs": [
    {
     "name": "stdout",
     "output_type": "stream",
     "text": [
      "1\n",
      "2\n",
      "3\n",
      "4\n",
      "5\n",
      "6\n",
      "7\n",
      "8\n",
      "9\n"
     ]
    }
   ],
   "source": [
    "\n",
    "for i in range(1,10):\n",
    "    if i==10:\n",
    "     break #stop loop\n",
    "    print(i)"
   ]
  },
  {
   "cell_type": "code",
   "execution_count": null,
   "id": "ab00bd68-6945-4bf1-9a4b-3073ac7968c3",
   "metadata": {},
   "outputs": [],
   "source": []
  }
 ],
 "metadata": {
  "kernelspec": {
   "display_name": "Python [conda env:base] *",
   "language": "python",
   "name": "conda-base-py"
  },
  "language_info": {
   "codemirror_mode": {
    "name": "ipython",
    "version": 3
   },
   "file_extension": ".py",
   "mimetype": "text/x-python",
   "name": "python",
   "nbconvert_exporter": "python",
   "pygments_lexer": "ipython3",
   "version": "3.13.5"
  }
 },
 "nbformat": 4,
 "nbformat_minor": 5
}
